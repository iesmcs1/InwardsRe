{
 "cells": [
  {
   "cell_type": "code",
   "execution_count": null,
   "metadata": {},
   "outputs": [],
   "source": [
    "import sys, os\n",
    "# Need to add parent folder to SYS PATH in order to import packages.\n",
    "sys.path.insert(0, os.path.abspath('..'))\n",
    "\n",
    "import pandas as pd\n",
    "from inwards_tasks.inwards_exposure_calc.exposure_movement_analysis import Movements\n",
    "pd.set_option('display.max_columns', None)\n",
    "pd.options.display.float_format = '{:,.3f}'.format\n",
    "\n",
    "exposures = {\n",
    "    'old_exp': {'report_date': '31/12/2021',\n",
    "                'folderpath': r'C:\\Users\\ievcor1\\Desktop\\Github\\InwardsRe\\data\\inwards_exp\\2021Q4-dec31'},\n",
    "    'new_exp': {'report_date': '31/03/2022',\n",
    "                'folderpath': r'C:\\Users\\ievcor1\\Desktop\\Github\\InwardsRe\\data\\inwards_exp\\2022Q1'}}\n",
    "\n",
    "qoq_mov = Movements(exposures=exposures, run_off=True)\n",
    "\n",
    "#qoq_mov.report_to_excel()"
   ]
  },
  {
   "cell_type": "code",
   "execution_count": null,
   "metadata": {},
   "outputs": [],
   "source": [
    "qoq_mov.report_to_excel()"
   ]
  },
  {
   "cell_type": "code",
   "execution_count": null,
   "metadata": {},
   "outputs": [],
   "source": [
    "print(qoq_mov.get_movement_summary(class_type='bond', to_txt=True))"
   ]
  },
  {
   "cell_type": "code",
   "execution_count": null,
   "metadata": {},
   "outputs": [],
   "source": [
    "print(qoq_mov.get_movement_summary(class_type='credit', to_txt=True))"
   ]
  },
  {
   "cell_type": "code",
   "execution_count": null,
   "metadata": {},
   "outputs": [],
   "source": [
    "import sys, os\n",
    "# Need to add parent folder to SYS PATH in order to import packages.\n",
    "sys.path.insert(0, os.path.abspath('..'))\n",
    "\n",
    "import pandas as pd\n",
    "from inwards_tasks.inwards_exposure_calc.named_and_treaty_exposure import Exposure\n",
    "pd.set_option('display.max_columns', None)\n",
    "pd.options.display.float_format = '{:,.3f}'.format\n",
    "\n",
    "new_exp = Exposure(folder=r'C:\\Users\\ievcor1\\Desktop\\Github\\InwardsRe\\data\\inwards_exp\\2022Q1')"
   ]
  }
 ],
 "metadata": {
  "interpreter": {
   "hash": "570feb405e2e27c949193ac68f46852414290d515b0ba6e5d90d076ed2284471"
  },
  "kernelspec": {
   "display_name": "Python 3.8.5 64-bit",
   "language": "python",
   "name": "python3"
  },
  "language_info": {
   "codemirror_mode": {
    "name": "ipython",
    "version": 3
   },
   "file_extension": ".py",
   "mimetype": "text/x-python",
   "name": "python",
   "nbconvert_exporter": "python",
   "pygments_lexer": "ipython3",
   "version": "3.8.5"
  },
  "orig_nbformat": 2
 },
 "nbformat": 4,
 "nbformat_minor": 2
}
