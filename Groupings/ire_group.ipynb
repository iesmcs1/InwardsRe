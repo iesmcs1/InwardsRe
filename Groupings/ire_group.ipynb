{
 "cells": [
  {
   "cell_type": "markdown",
   "metadata": {},
   "source": [
    "FOR IRE_GROUPING, use Treaty Register from 1 Month prior to Quarter End:\n",
    "- UWY 2014 - 2020, or the register with the most recent UW Yrs. We don't need previous years.\n",
    "- e.g.: If Quarter End is 31/12/2020, use Treaty Register from November (usually \"as at 02.12.2020\")\n",
    "  - Assumed Non Group Treaty Register Report UWY 2014 - 2020 November 30th as at 02.12.2020\n",
    "\n",
    "For the `IRE_GROUPING*.txt` file, use most recent version.\n",
    "- e.g.: Using same quarter end as above, the file would be from 2020 Q3.\n"
   ]
  },
  {
   "cell_type": "code",
   "execution_count": null,
   "metadata": {},
   "outputs": [],
   "source": [
    "import pandas as pd\n",
    "from ire_group import IREGrouping\n",
    "\n",
    "assumed_reg_file = 'Assumed Non Group Treaty Register Report UWY 2007 - 2022 May 31st as at 01.06.2022.xlsx'\n",
    "\n",
    "prev_ire_grouping_file = r'S:\\Non Group Re\\Actuarial\\Gerard Coffey\\Solvency Capital Requirements\\Data BAT and related\\IRE_GOUPING\\2022\\2022Q1\\202204DDHHMM_2022Q1_IRE_GROUPING_01.txt'\n",
    "\n",
    "ire_g = IREGrouping(\n",
    "    asumed_reg_file=assumed_reg_file,\n",
    "    ire_grouping_file=prev_ire_grouping_file,\n",
    "    report_date='30/06/2022'\n",
    ")"
   ]
  },
  {
   "cell_type": "code",
   "execution_count": null,
   "metadata": {},
   "outputs": [],
   "source": [
    "ire_g.generate_detection_pivot()"
   ]
  },
  {
   "cell_type": "code",
   "execution_count": null,
   "metadata": {},
   "outputs": [],
   "source": [
    "ire_g.summary_for_underwriters()"
   ]
  },
  {
   "cell_type": "code",
   "execution_count": null,
   "metadata": {},
   "outputs": [],
   "source": [
    "ire_g.to_excel()"
   ]
  },
  {
   "cell_type": "markdown",
   "metadata": {},
   "source": [
    "# Notes on Detection Pivot\n",
    "\n",
    "- Treaty 05055\n",
    "  - does not have ambiguity, since XL only covers Credit\n",
    "- Treaty 07367\n",
    "  - does not have ambiguity, since XL only covers Bond"
   ]
  }
 ],
 "metadata": {
  "kernelspec": {
   "display_name": "Python 3.8.5 64-bit",
   "language": "python",
   "name": "python3"
  },
  "language_info": {
   "codemirror_mode": {
    "name": "ipython",
    "version": 3
   },
   "file_extension": ".py",
   "mimetype": "text/x-python",
   "name": "python",
   "nbconvert_exporter": "python",
   "pygments_lexer": "ipython3",
   "version": "3.8.5"
  },
  "orig_nbformat": 2,
  "vscode": {
   "interpreter": {
    "hash": "570feb405e2e27c949193ac68f46852414290d515b0ba6e5d90d076ed2284471"
   }
  }
 },
 "nbformat": 4,
 "nbformat_minor": 2
}
