{
 "cells": [
  {
   "cell_type": "markdown",
   "metadata": {},
   "source": [
    "# Steps to Update Reinsurance Groupings text file\n",
    "1. Check to see if last Treaties added to Ceded Register are in text file.\n",
    "2. If so, then generate text file for finance, else move to step 3\n",
    "3. Inform Outward about new treaties\n",
    "4. Once they updated their information and provided a Grouping ID, update text file"
   ]
  },
  {
   "cell_type": "markdown",
   "metadata": {},
   "source": [
    "# After Reinsurance Grouping txt file is updated\n",
    "\n",
    "Create Excel file with format for Finance"
   ]
  },
  {
   "cell_type": "code",
   "execution_count": null,
   "metadata": {},
   "outputs": [],
   "source": [
    "import sys, os\n",
    "# Need to add parent folder to SYS PATH in order to import packages.\n",
    "sys.path.insert(0, os.path.abspath('..'))\n",
    "\n",
    "from inwards_tasks.treaty_register import Register\n",
    "\n",
    "import pandas as pd\n",
    "import numpy as np"
   ]
  },
  {
   "cell_type": "code",
   "execution_count": null,
   "metadata": {},
   "outputs": [],
   "source": [
    "from inwards_tasks.treaty_register import Register\n",
    "\n",
    "trg = Register(\n",
    "    filepath='Assumed Non Group Treaty Register Report UWY 2007 - 2022 March 31st as at 01.04.2022.xlsx',\n",
    "    report_date='31/03/2022',\n",
    ")"
   ]
  },
  {
   "cell_type": "code",
   "execution_count": null,
   "metadata": {},
   "outputs": [],
   "source": [
    "file_path = '202204XXHHMM_2022Q1_IRE_REINSURANCEGROUPINGS_v02.txt'\n",
    "df = pd.read_csv(file_path, sep='\\t')\n",
    "\n",
    "df.dropna(subset=['PARTNER_GROUPING_ID'], inplace=True)\n",
    "\n",
    "df.rename(columns={'PARTNER_GROUPING_ID': 'Grouping ID'}, inplace=True)\n",
    "\n",
    "# Remove UWY less than 10\n",
    "# If UWY is 9 or lower, CONTRACT_ID will have 11 digits because\n",
    "# the year is one digit\n",
    "df = df.loc[df['CONTRACT_ID'].str.len() == 12]"
   ]
  },
  {
   "cell_type": "code",
   "execution_count": null,
   "metadata": {},
   "outputs": [],
   "source": [
    "reg_cols = ['Comp',\n",
    "            'Seq',\n",
    "            'UW Yr',\n",
    "            'CONTRACT_ID',\n",
    "            'Pd Beg',\n",
    "            'Pd End',\n",
    "            'Retro Seq']\n",
    "\n",
    "df_merged = df.merge(trg.register[reg_cols], on='CONTRACT_ID', how='left')\n",
    "df_merged.rename(columns={'Comp': 'COMP',\n",
    "                          'Seq': 'SEQ',\n",
    "                          'UW Yr': 'UWY',\n",
    "                          'CONTRACT_ID': 'Sol II ID',\n",
    "                          'Pd Beg': 'Start Date',\n",
    "                          'Pd End': 'End Date',\n",
    "                          'Retro Seq': 'Balloon Ref'},\n",
    "                 inplace=True)\n",
    "\n",
    "df_merged['COMP'] = df_merged['COMP'].astype(np.int64)\n",
    "df_merged['Grouping ID'] = df_merged['Grouping ID'].astype(np.int64)\n",
    "df_merged['Grouping ID'] = df_merged['Grouping ID'].astype(np.int64)\n",
    "df_merged['Balloon Ref'] = df_merged['Balloon Ref'] + \\\n",
    "    df_merged['UWY'].astype(str)\n",
    "\n",
    "df_merged[['COMP',\n",
    "           'SEQ',\n",
    "           'UWY',\n",
    "           'Sol II ID',\n",
    "           'Grouping ID',\n",
    "           'Start Date',\n",
    "           'End Date',\n",
    "           'Balloon Ref']].to_clipboard(index=False)"
   ]
  }
 ],
 "metadata": {
  "interpreter": {
   "hash": "1baa965d5efe3ac65b79dfc60c0d706280b1da80fedb7760faf2759126c4f253"
  },
  "kernelspec": {
   "display_name": "Python 3.8.5 64-bit",
   "name": "python3"
  },
  "language_info": {
   "codemirror_mode": {
    "name": "ipython",
    "version": 3
   },
   "file_extension": ".py",
   "mimetype": "text/x-python",
   "name": "python",
   "nbconvert_exporter": "python",
   "pygments_lexer": "ipython3",
   "version": "3.8.5"
  },
  "orig_nbformat": 2
 },
 "nbformat": 4,
 "nbformat_minor": 2
}
