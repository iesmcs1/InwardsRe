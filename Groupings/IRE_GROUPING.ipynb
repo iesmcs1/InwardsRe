{
 "cells": [
  {
   "cell_type": "code",
   "execution_count": 1,
   "metadata": {},
   "outputs": [],
   "source": [
    "import sys, os\n",
    "# Need to add parent folder to SYS PATH in order to import packages.\n",
    "sys.path.insert(0, os.path.abspath('..'))\n",
    "\n",
    "from inwards_tasks.ire_grouping import IREGrouping\n",
    "from inwards_tasks.treaty_register import Register\n",
    "\n",
    "import pandas as pd"
   ]
  },
  {
   "cell_type": "code",
   "execution_count": 3,
   "metadata": {},
   "outputs": [
    {
     "name": "stdout",
     "output_type": "stream",
     "text": [
      "C:\\Users\\ievcor1\\OneDrive - Atradius\\Victor Correra\\Datasets\\ITS_TEXT_FILES\\2021Q4\\202201051100_2021Q4_IRE_GROUPING_01.txt imported successfully.\n",
      "C:\\Users\\ievcor1\\OneDrive - Atradius\\Victor Correra\\Datasets\\Treaty Register\\202201\\Assumed Non Group Treaty Register Report UWY 2016 - 2022 January 31st as at 01.02.2022.xlsx imported successfully.\n"
     ]
    }
   ],
   "source": [
    "ire_grouping_prev_qtr_filepath = r'C:\\Users\\ievcor1\\OneDrive - Atradius\\Victor Correra\\Datasets\\ITS_TEXT_FILES\\2021Q4\\202201051100_2021Q4_IRE_GROUPING_01.txt'\n",
    "assumed_reg = r\"C:\\Users\\ievcor1\\OneDrive - Atradius\\Victor Correra\\Datasets\\Treaty Register\\202201\\Assumed Non Group Treaty Register Report UWY 2016 - 2022 January 31st as at 01.02.2022.xlsx\"\n",
    "report_date = '31/01/2022'\n",
    "\n",
    "ireg = IREGrouping(report_date=report_date)\n",
    "\n",
    "ireg.import_ire_grouping(filepath=ire_grouping_prev_qtr_filepath)\n",
    "ireg.import_assumed_register(filepath=assumed_reg)\n",
    "\n",
    "\n",
    "#ireg.to_excel()"
   ]
  }
 ],
 "metadata": {
  "interpreter": {
   "hash": "1baa965d5efe3ac65b79dfc60c0d706280b1da80fedb7760faf2759126c4f253"
  },
  "kernelspec": {
   "display_name": "Python 3.8.5 64-bit",
   "name": "python3"
  },
  "language_info": {
   "codemirror_mode": {
    "name": "ipython",
    "version": 3
   },
   "file_extension": ".py",
   "mimetype": "text/x-python",
   "name": "python",
   "nbconvert_exporter": "python",
   "pygments_lexer": "ipython3",
   "version": "3.8.5"
  },
  "orig_nbformat": 4
 },
 "nbformat": 4,
 "nbformat_minor": 2
}
