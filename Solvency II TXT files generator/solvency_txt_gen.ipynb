{
 "cells": [
  {
   "cell_type": "code",
   "execution_count": null,
   "metadata": {},
   "outputs": [],
   "source": [
    "import sys, os\n",
    "# Need to add parent folder to SYS PATH in order to import packages.\n",
    "sys.path.insert(0, os.path.abspath('..'))\n",
    "\n",
    "from inwards_tasks.solvency_txt_generator import SolvencyII, correct_run_off\n",
    "import pandas as pd\n",
    "import numpy as np"
   ]
  },
  {
   "cell_type": "code",
   "execution_count": null,
   "metadata": {},
   "outputs": [],
   "source": [
    "def find_file(file: str, folderpath: str) -> str:\n",
    "    \"\"\"Return file that matches the pattern passed to file argument.\n",
    "\n",
    "    Parameters\n",
    "    ----------\n",
    "    file : str\n",
    "        Pattern to be searched for each file inside folderpath\n",
    "    folderpath : str\n",
    "        Folder path that contains the files to be searched.\n",
    "\n",
    "    Returns\n",
    "    -------\n",
    "    str\n",
    "        File name.\n",
    "\n",
    "    Raises\n",
    "    ------\n",
    "    ValueError\n",
    "        Raise error if there're 2 files with the same pattern passed to file\n",
    "        argument.\n",
    "    \"\"\"\n",
    "    filtered_file_list = [f for f in os.listdir(folderpath) if file in f]\n",
    "    if len(filtered_file_list) > 1:\n",
    "        err = f'The filter \"{file}\" returned more than 1 file: {filtered_file_list}.'\n",
    "        raise ValueError(err)\n",
    "    else:\n",
    "        # If no error, then return single file.\n",
    "        return filtered_file_list[0]\n",
    "    "
   ]
  },
  {
   "cell_type": "markdown",
   "metadata": {},
   "source": [
    "# Step 1 - Correct SYMY extract by removing run-off\n",
    "- This step corrects the run-off that is being applyed to the exposure uploaded to SYMY.\n",
    "- The Excel file passed to the function below contains only the exposures that need to be corrected to remove run-off.\n",
    "- The function will then generate a file that ends with `SYMY run-off corrected.txt`. This file will be used to generate the TXT files for ITS."
   ]
  },
  {
   "cell_type": "code",
   "execution_count": null,
   "metadata": {},
   "outputs": [],
   "source": [
    "correct_run_off(\n",
    "    symy_filepath=find_file(file='SYMY Main', folderpath=os.getcwd()),\n",
    "    run_off_correction_filepath='Final LAPSED REVERSAL data - correct format-20220331.xlsx',\n",
    "    to_csv=True,\n",
    "    return_df=False\n",
    ")"
   ]
  },
  {
   "cell_type": "markdown",
   "metadata": {},
   "source": [
    "# Step 2 - Generate text files for SII run\n",
    "- For the Sinosure Retro, the correction of exposures will be in the Excel file called `YYYYQX corrections.xlsx`\n",
    "- The correction will be applied when function `load_data_correction()` is ran.\n",
    "- The files will be generated when running `generate_txt_files()`"
   ]
  },
  {
   "cell_type": "code",
   "execution_count": null,
   "metadata": {},
   "outputs": [],
   "source": [
    "s = SolvencyII(report_date='31/03/2022')"
   ]
  },
  {
   "cell_type": "code",
   "execution_count": null,
   "metadata": {},
   "outputs": [],
   "source": [
    "symy_filepath = find_file(file='SYMY run-off corrected', folderpath=os.getcwd())\n",
    "s.import_symy_data(symy_filepath)\n",
    "\n",
    "register_filepath = '202204041700_2022Q1_IRE_TREATYREG_02.txt'\n",
    "s.import_register_data(register_filepath)\n",
    "\n",
    "sharepoint_filepath = '20220401__Sharepoint data_hardcoded.xlsx'\n",
    "s.import_sharepoint_data(sharepoint_filepath)\n",
    "\n",
    "symy_expiry_filepath = '20220401-SYMY expiry-date.txt'\n",
    "s.import_expiry_dates_data(symy_expiry_filepath)"
   ]
  },
  {
   "cell_type": "code",
   "execution_count": null,
   "metadata": {},
   "outputs": [],
   "source": [
    "s.load_data_correction(data_correction_filepath='2022Q1 corrections.xlsx')"
   ]
  },
  {
   "cell_type": "code",
   "execution_count": null,
   "metadata": {},
   "outputs": [],
   "source": [
    "s.generate_txt_files(file_version='04')"
   ]
  }
 ],
 "metadata": {
  "kernelspec": {
   "display_name": "Python 3.8.5 64-bit",
   "language": "python",
   "name": "python3"
  },
  "language_info": {
   "codemirror_mode": {
    "name": "ipython",
    "version": 3
   },
   "file_extension": ".py",
   "mimetype": "text/x-python",
   "name": "python",
   "nbconvert_exporter": "python",
   "pygments_lexer": "ipython3",
   "version": "3.8.5"
  },
  "orig_nbformat": 4,
  "vscode": {
   "interpreter": {
    "hash": "570feb405e2e27c949193ac68f46852414290d515b0ba6e5d90d076ed2284471"
   }
  }
 },
 "nbformat": 4,
 "nbformat_minor": 2
}
