{
 "cells": [
  {
   "cell_type": "markdown",
   "metadata": {},
   "source": [
    "# 04 - Spread Risk"
   ]
  },
  {
   "cell_type": "code",
   "execution_count": null,
   "metadata": {},
   "outputs": [],
   "source": [
    "import sys\n",
    "import os\n",
    "# Need to add parent folder to SYS PATH in order to import packages.\n",
    "sys.path.insert(0, os.path.abspath('..'))\n",
    "\n",
    "from inwards_tasks.market_risk.spread_risk import SpreadRisk\n",
    "import pandas as pd\n",
    "import numpy as np\n",
    "\n",
    "# Table output formatting\n",
    "pd.set_option('display.max_columns', None)\n",
    "pd.options.display.float_format = '{:,.3f}'.format"
   ]
  },
  {
   "cell_type": "markdown",
   "metadata": {},
   "source": [
    "## 3. Import Files\n",
    "\n",
    "The function `import_and_process_sourcedata_files()` expects 1 file to be in the referenced folder:\n",
    "- BOND_DATA.xlsx"
   ]
  },
  {
   "cell_type": "code",
   "execution_count": null,
   "metadata": {},
   "outputs": [],
   "source": [
    "sp_risk = SpreadRisk()\n",
    "\n",
    "sp_risk.import_data(r'C:\\Users\\ievcor1\\Desktop\\Market Risk\\spread\\2021Q2\\Source Data')\n",
    "sp_risk.import_data(r'C:\\Users\\ievcor1\\Desktop\\Market Risk\\spread\\2021Q3\\Source Data')\n",
    "sp_risk.import_data(r'C:\\Users\\ievcor1\\Desktop\\Market Risk\\spread\\2021Q4\\Source Data')\n",
    "sp_risk.import_data(r'C:\\Users\\ievcor1\\Desktop\\Market Risk\\spread\\2022Q1\\Source Data')"
   ]
  },
  {
   "cell_type": "markdown",
   "metadata": {},
   "source": [
    "# 4. Generate reports"
   ]
  },
  {
   "cell_type": "code",
   "execution_count": null,
   "metadata": {},
   "outputs": [],
   "source": [
    "sp_risk.generate_reports(excel=True, html=True)"
   ]
  },
  {
   "cell_type": "markdown",
   "metadata": {},
   "source": [
    "# Functions to explore data"
   ]
  },
  {
   "cell_type": "code",
   "execution_count": null,
   "metadata": {},
   "outputs": [],
   "source": [
    "#sp_risk.calculate_movements(mv_diff=True).to_clipboard(index=False)"
   ]
  },
  {
   "cell_type": "code",
   "execution_count": null,
   "metadata": {},
   "outputs": [],
   "source": [
    "# sp_risk.data\n",
    "# sp_risk.processed_data\n",
    "# sp_risk.processed_data\n",
    "# sp_risk._helper_weighted_average(by='Shock', bond_status=None)"
   ]
  }
 ],
 "metadata": {
  "interpreter": {
   "hash": "1baa965d5efe3ac65b79dfc60c0d706280b1da80fedb7760faf2759126c4f253"
  },
  "kernelspec": {
   "display_name": "Python 3.8.5 64-bit",
   "name": "python3"
  },
  "language_info": {
   "codemirror_mode": {
    "name": "ipython",
    "version": 3
   },
   "file_extension": ".py",
   "mimetype": "text/x-python",
   "name": "python",
   "nbconvert_exporter": "python",
   "pygments_lexer": "ipython3",
   "version": "3.8.5"
  },
  "orig_nbformat": 2
 },
 "nbformat": 4,
 "nbformat_minor": 2
}
