{
 "cells": [
  {
   "cell_type": "markdown",
   "metadata": {},
   "source": [
    "# 02 - Equity Risk"
   ]
  },
  {
   "cell_type": "code",
   "execution_count": null,
   "metadata": {},
   "outputs": [],
   "source": [
    "import sys, os\n",
    "# Need to add parent folder to SYS PATH in order to import packages.\n",
    "sys.path.insert(0, os.path.abspath('..'))\n",
    "\n",
    "import pandas as pd\n",
    "\n",
    "from inwards_tasks.market_risk.equity_risk import EquityRisk\n",
    "\n",
    "# Table output formatting\n",
    "pd.set_option('display.max_columns', None)\n",
    "pd.options.display.float_format = '{:,.3f}'.format\n",
    "\n",
    "eq_risk = EquityRisk()"
   ]
  },
  {
   "cell_type": "code",
   "execution_count": null,
   "metadata": {},
   "outputs": [],
   "source": [
    "eq_risk.import_data(r'C:\\Users\\ievcor1\\Desktop\\Market Risk\\equity\\2020\\2020Q3\\Source Data')\n",
    "eq_risk.import_data(r'C:\\Users\\ievcor1\\Desktop\\Market Risk\\equity\\2020\\2020Q4\\Source Data')\n",
    "eq_risk.import_data(r'C:\\Users\\ievcor1\\Desktop\\Market Risk\\equity\\2021\\2021Q1\\Source Data')\n",
    "eq_risk.import_data(r'C:\\Users\\ievcor1\\Desktop\\Market Risk\\equity\\2021\\2021Q2\\Source Data')\n",
    "eq_risk.import_data(r'C:\\Users\\ievcor1\\Desktop\\Market Risk\\equity\\2021\\2021Q3\\Source Data')\n",
    "eq_risk.import_data(r'C:\\Users\\ievcor1\\Desktop\\Market Risk\\equity\\2021\\2021Q4\\Source Data')\n",
    "eq_risk.import_data(r'C:\\Users\\ievcor1\\Desktop\\Market Risk\\equity\\2022\\2022Q1\\Source Data')\n",
    "\n",
    "eq_risk.generate_reports(excel=True, html=True)"
   ]
  },
  {
   "cell_type": "markdown",
   "metadata": {},
   "source": [
    "## 1. Update `main_source` below to match User path\n",
    "\n",
    "Please note that the path is up until and **NOT INCLUDING** the Year folder.\n",
    "\n",
    "This is just to make it easier to update the code."
   ]
  },
  {
   "cell_type": "code",
   "execution_count": null,
   "metadata": {},
   "outputs": [],
   "source": [
    "# If using Atradius Laptop and connected to the Shared Drive (S:\\)\n",
    "main_source = r'S:\\Non Group Re\\Actuarial\\Gerard Coffey\\Solvency Capital Requirements\\1. Market Risk\\2. Equity Risk'"
   ]
  },
  {
   "cell_type": "markdown",
   "metadata": {},
   "source": [
    "## 2. Import Files\n",
    "\n",
    "The function `import_and_process_sourcedata_files()` expects `TBSL_EQUITIES.xlsx` to be in the referenced folder."
   ]
  },
  {
   "cell_type": "code",
   "execution_count": null,
   "metadata": {},
   "outputs": [],
   "source": [
    "source1 = main_source + r'\\2020\\2020Q4\\Source Data'\n",
    "eq_risk.import_and_process_sourcedata_files(sourcedata_folder=source1, report_date='31/12/2020')\n",
    "\n",
    "source2 = main_source + r'\\2021\\2021Q1\\Source Data'\n",
    "eq_risk.import_and_process_sourcedata_files(sourcedata_folder=source2, report_date='31/03/2021')\n",
    "\n",
    "source3 = main_source + r'\\2021\\2021Q2\\Source Data'\n",
    "eq_risk.import_and_process_sourcedata_files(sourcedata_folder=source3, report_date='30/06/2021')"
   ]
  },
  {
   "cell_type": "markdown",
   "metadata": {},
   "source": [
    "## 3. Generate HTML Report"
   ]
  },
  {
   "cell_type": "code",
   "execution_count": null,
   "metadata": {},
   "outputs": [],
   "source": [
    "#eq_risk.generate_reports(excel=False, html=True)"
   ]
  }
 ],
 "metadata": {
  "interpreter": {
   "hash": "1baa965d5efe3ac65b79dfc60c0d706280b1da80fedb7760faf2759126c4f253"
  },
  "kernelspec": {
   "display_name": "Python 3.8.5 64-bit",
   "name": "python3"
  },
  "language_info": {
   "codemirror_mode": {
    "name": "ipython",
    "version": 3
   },
   "file_extension": ".py",
   "mimetype": "text/x-python",
   "name": "python",
   "nbconvert_exporter": "python",
   "pygments_lexer": "ipython3",
   "version": "3.8.5"
  }
 },
 "nbformat": 4,
 "nbformat_minor": 2
}
