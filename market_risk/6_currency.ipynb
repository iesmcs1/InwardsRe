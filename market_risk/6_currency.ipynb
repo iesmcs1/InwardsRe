{
 "cells": [
  {
   "cell_type": "code",
   "execution_count": null,
   "metadata": {},
   "outputs": [],
   "source": [
    "import sys, os\n",
    "# Need to add parent folder to SYS PATH in order to import packages.\n",
    "sys.path.insert(0, os.path.abspath('..'))\n",
    "\n",
    "from modules.market_risk.currency_risk import CurrencyRisk, CurrencyData\n",
    "import pandas as pd\n",
    "\n",
    "# Table output formatting\n",
    "pd.set_option('display.max_columns', None)\n",
    "pd.options.display.float_format = '{:,.3f}'.format\n",
    "\n",
    "curr_risk = CurrencyRisk()"
   ]
  },
  {
   "cell_type": "code",
   "execution_count": null,
   "metadata": {},
   "outputs": [],
   "source": [
    "#main_path = r'S:\\Non Group Re\\Actuarial\\Gerard Coffey\\Solvency Capital Requirements\\1. Market Risk\\6. Currency Risk'\n",
    "main_path = r'C:\\Users\\ievcor1\\Desktop\\Market Risk\\currency'\n",
    "\n",
    "source1 = main_path + r'\\2021Q1\\Source Data'\n",
    "curr_risk.import_and_process_sourcedata_files('31/03/2021', sourcedata_folder=source1)\n",
    "\n",
    "source2 = main_path + r'\\2021Q2\\Source Data'\n",
    "curr_risk.import_and_process_sourcedata_files('30/06/2021', sourcedata_folder=source2)\n",
    "\n",
    "curr_risk.generate_excel_report(open_file=True)"
   ]
  },
  {
   "cell_type": "code",
   "execution_count": null,
   "metadata": {},
   "outputs": [],
   "source": [
    "curr_risk.get_tp_comparison('USD')"
   ]
  },
  {
   "cell_type": "code",
   "execution_count": null,
   "metadata": {},
   "outputs": [],
   "source": [
    "curr_risk.get_currency_summary_table('USD')"
   ]
  },
  {
   "cell_type": "code",
   "execution_count": null,
   "metadata": {},
   "outputs": [],
   "source": [
    "print(curr_risk.get_currency_movement_explanation('MXN'))"
   ]
  },
  {
   "cell_type": "code",
   "execution_count": null,
   "metadata": {},
   "outputs": [],
   "source": [
    "curr_risk.get_natural_account_comparison('USD')"
   ]
  }
 ],
 "metadata": {
  "interpreter": {
   "hash": "1baa965d5efe3ac65b79dfc60c0d706280b1da80fedb7760faf2759126c4f253"
  },
  "kernelspec": {
   "display_name": "Python 3.8.5 64-bit",
   "name": "python3"
  },
  "language_info": {
   "codemirror_mode": {
    "name": "ipython",
    "version": 3
   },
   "file_extension": ".py",
   "mimetype": "text/x-python",
   "name": "python",
   "nbconvert_exporter": "python",
   "pygments_lexer": "ipython3",
   "version": "3.8.5"
  },
  "orig_nbformat": 2
 },
 "nbformat": 4,
 "nbformat_minor": 2
}
