{
 "cells": [
  {
   "cell_type": "code",
   "execution_count": 1,
   "metadata": {},
   "outputs": [],
   "source": [
    "import sys, os\n",
    "# Need to add parent folder to SYS PATH in order to import packages.\n",
    "sys.path.insert(0, os.path.abspath('..'))"
   ]
  },
  {
   "cell_type": "code",
   "execution_count": 2,
   "metadata": {},
   "outputs": [],
   "source": [
    "from inwards_tasks.ras import RAS\n",
    "import pandas as pd\n",
    "\n",
    "reg_path = \"Assumed Non Group Treaty Register Report UWY 2007 - 2021 December 31st as at 04.01.2022.xlsx\"\n",
    "rep_date = '31/12/2021'\n",
    "#ecap_filepath = r'C:\\Users\\victo\\Downloads\\SO_REPORTING.txt'\n",
    "\n",
    "# Creates RAS object ready to be exported to excel.\n",
    "ras = RAS(\n",
    "    filepath=reg_path,\n",
    "    report_date=rep_date,\n",
    "    min_epi_liab_ratio=0.05,\n",
    "    min_xl_rol=0.02,\n",
    "    max_commission={'bond': 0.50, 'cred': 0.45},\n",
    "    #ecap_filepath='SO_REPORTING_6788.txt'\n",
    ")"
   ]
  },
  {
   "cell_type": "markdown",
   "metadata": {},
   "source": [
    "The comments below are for treaties that were already analysed in previous quarters, but are still flagged because they meet certain criteria."
   ]
  },
  {
   "cell_type": "code",
   "execution_count": 6,
   "metadata": {},
   "outputs": [
    {
     "name": "stdout",
     "output_type": "stream",
     "text": [
      "Applying comments on sheet EPI-LIABI Ratio:\n",
      "* Comment applied to 02126C1 0421-CLAL CREDIT.\n",
      "* Comment applied to 36122B1 0221-DORAMA.\n",
      "* Comment applied to 36180B1 0121-ERGO VERSICHERUNG AG.\n",
      "* Comment applied to 07359B1 0521-SOFIMEX.\n",
      "#### Could not find Reference 36090B1 0120.\n",
      "* Comment applied to 02585B1 0121-ASERTA / AISA.\n",
      "* Comment applied to 02585B1 0321-ASERTA / AISA.\n",
      "* Comment applied to 02585B1 0421-ASERTA / AISA.\n",
      "* Comment applied to 02585B1 0521-ASERTA / AISA.\n",
      "* Comment applied to 02585B1 0721-ASERTA / AISA.\n",
      "* Comment applied to 36131B1 0121-AVIVA.\n",
      "* Comment applied to 36045B1 0221-AFIANZADORA LATINOAMERICANA.\n",
      "* Comment applied to 36162B1 0221-GUARDRISK.\n",
      "* Comment applied to 03115B1 0121-LA CONSOLIDADA.\n",
      "* Comment applied to 03199C1 0321-CIE TUNISIENNE POUR.\n",
      "Applying comments on sheet XL-ROL:\n",
      "* Comment applied to 0079421-BTA LATVIA.\n",
      "* Comment applied to 0319921-CIE TUNISIENNE POUR.\n",
      "* Comment applied to 0927021-UNIPOLSAI.\n",
      "* Comment applied to 3602221-ELBA ASSICURAZIONI.\n",
      "* Comment applied to 3605519-AM TRUST.\n",
      "* Comment applied to 0194121-INSUR ARGENTINA.\n",
      "* Comment applied to 0311521-LA CONSOLIDADA.\n"
     ]
    }
   ],
   "source": [
    "epi_liab_ratio_comments = {\n",
    "    '02126C1 0421': 'top up to main treaty',\n",
    "    '36122B1 0221': 'Surplus to main treaty',\n",
    "    '36180B1 0121': 'Part of Group renewal',\n",
    "    '07359B1 0521': 'Sofimex Sub-layer',\n",
    "    '36090B1 0120': 'Approved by Management',\n",
    "    '02585B1 0121': 'Aserta sub layer - 13.6% for the whole treaty',\n",
    "    '02585B1 0321': 'Aserta sub layer - 13.6% for the whole treaty',\n",
    "    '02585B1 0421': 'Aserta sub layer - 13.6% for the whole treaty',\n",
    "    '02585B1 0521': 'Aserta sub layer - 13.6% for the whole treaty',\n",
    "    '02585B1 0721': 'Aserta sub layer - 13.6% for the whole treaty',\n",
    "    '36131B1 0121': 'Approved by Management',\n",
    "    '36045B1 0221': 'Part of Group renewal',\n",
    "    '36162B1 0221': 'Part of Group renewal',\n",
    "    '03115B1 0121': 'Approved by Management',\n",
    "    '03199C1 0321': 'MD approved - part of group renewal'\n",
    "}\n",
    "\n",
    "xl_rol_comments = {'0079421': 'Approved',\n",
    "                   '0319921': 'Approved',\n",
    "                   '0927021': 'Approved',\n",
    "                   '3602221': 'Approved',\n",
    "                   '3605519': 'Approved',\n",
    "                   '0194121': 'Approved - Part of continental - Fronting fee only',\n",
    "                   '0311521': 'Approved'}\n",
    "\n",
    "ras.apply_comments(epi_liab_ratio=epi_liab_ratio_comments, xl_rol=xl_rol_comments)\n"
   ]
  },
  {
   "cell_type": "code",
   "execution_count": 7,
   "metadata": {},
   "outputs": [
    {
     "name": "stdout",
     "output_type": "stream",
     "text": [
      "File RAS-UW 2021Q4.xlsx created.\n"
     ]
    }
   ],
   "source": [
    "# ras.epi_liab_ratio()\n",
    "# ras.xl_rol()\n",
    "# ras.commission()\n",
    "# ras.return_on_capital()\n",
    "# ras.concentration(by='broker')\n",
    "# ras.concentration(by='cedant')\n",
    "\n",
    "ras.export_to_excel()"
   ]
  }
 ],
 "metadata": {
  "interpreter": {
   "hash": "1baa965d5efe3ac65b79dfc60c0d706280b1da80fedb7760faf2759126c4f253"
  },
  "kernelspec": {
   "display_name": "Python 3.8.5 64-bit",
   "name": "python3"
  },
  "language_info": {
   "codemirror_mode": {
    "name": "ipython",
    "version": 3
   },
   "file_extension": ".py",
   "mimetype": "text/x-python",
   "name": "python",
   "nbconvert_exporter": "python",
   "pygments_lexer": "ipython3",
   "version": "3.8.5"
  },
  "orig_nbformat": 2
 },
 "nbformat": 4,
 "nbformat_minor": 2
}
