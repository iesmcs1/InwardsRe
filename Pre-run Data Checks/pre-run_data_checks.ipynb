{
 "cells": [
  {
   "attachments": {},
   "cell_type": "markdown",
   "metadata": {},
   "source": [
    "# Extract SharePoint data\n",
    "\n",
    "1. Go to Special Acceptances SharePoint website\n",
    "2. Select \"Solvency 2_all UWY\" view.\n",
    "3. Export table to Excel\n",
    "\n",
    "# Steps to run this Notebook\n",
    "\n",
    "1. Update file paths in `DataChecks()`.\n",
    "   - it's easier to have all files inside the same folder as this Notebook.\n",
    "2. Run all cells\n",
    "   - Running all cells will load the files, and run the `DataChecks().run_checks()`.\n",
    "   - This generates the Excel file, with the summary of errors."
   ]
  },
  {
   "cell_type": "code",
   "execution_count": 1,
   "metadata": {},
   "outputs": [],
   "source": [
    "import sys, os\n",
    "# Need to add parent folder to SYS PATH in order to import packages.\n",
    "sys.path.insert(0, os.path.abspath('..'))\n",
    "\n",
    "from inwards_tasks.pre_run_checks import DataChecks"
   ]
  },
  {
   "cell_type": "code",
   "execution_count": 2,
   "metadata": {},
   "outputs": [
    {
     "data": {
      "text/plain": [
       "'c:\\\\Users\\\\iesmcs1\\\\Desktop\\\\Repository\\\\InwardsRe\\\\InwardsRe\\\\Pre-run Data Checks'"
      ]
     },
     "execution_count": 2,
     "metadata": {},
     "output_type": "execute_result"
    }
   ],
   "source": [
    "os.getcwd()"
   ]
  },
  {
   "cell_type": "code",
   "execution_count": 5,
   "metadata": {},
   "outputs": [],
   "source": [
    "dc = DataChecks(\n",
    "    report_date=\"30/06/2023\",\n",
    "    symy_filepath=\"20230626-SYMY Main.txt\",\n",
    "    sharepoint_filepath=\"20230626__Sharepoint data_origional.xlsx\",\n",
    "    register_filepath=\"Assumed Non Group Treaty Register Report UWY 2007 - 2023 June 26th as at 26.06.2023.xlsx\",\n",
    "    expiry_dates_filepath=\"20230626 - SYMY expiry-date.txt\",\n",
    "    #expiry_dates_tarent_file_path=None\n",
    ")"
   ]
  },
  {
   "cell_type": "code",
   "execution_count": 6,
   "metadata": {},
   "outputs": [
    {
     "ename": "TypeError",
     "evalue": "'str' object is not callable",
     "output_type": "error",
     "traceback": [
      "\u001b[1;31m---------------------------------------------------------------------------\u001b[0m",
      "\u001b[1;31mTypeError\u001b[0m                                 Traceback (most recent call last)",
      "\u001b[1;32mc:\\Users\\iesmcs1\\Desktop\\Repository\\InwardsRe\\InwardsRe\\Pre-run Data Checks\\pre-run_data_checks.ipynb Cell 5\u001b[0m in \u001b[0;36m<cell line: 1>\u001b[1;34m()\u001b[0m\n\u001b[1;32m----> <a href='vscode-notebook-cell:/c%3A/Users/iesmcs1/Desktop/Repository/InwardsRe/InwardsRe/Pre-run%20Data%20Checks/pre-run_data_checks.ipynb#W4sZmlsZQ%3D%3D?line=0'>1</a>\u001b[0m dc\u001b[39m.\u001b[39;49mrun_checks(keep_only_error\u001b[39m=\u001b[39;49m\u001b[39mFalse\u001b[39;49;00m, to_excel\u001b[39m=\u001b[39;49m\u001b[39mTrue\u001b[39;49;00m, open_file\u001b[39m=\u001b[39;49m\u001b[39mTrue\u001b[39;49;00m)\n",
      "File \u001b[1;32mc:\\Users\\iesmcs1\\Desktop\\Repository\\InwardsRe\\InwardsRe\\inwards_tasks\\pre_run_checks.py:615\u001b[0m, in \u001b[0;36mDataChecks.run_checks\u001b[1;34m(self, keep_only_error, to_excel, open_file)\u001b[0m\n\u001b[0;32m    612\u001b[0m \u001b[39mself\u001b[39m\u001b[39m.\u001b[39mcheck_treaty_register(keep_only_error\u001b[39m=\u001b[39mkeep_only_error)\n\u001b[0;32m    614\u001b[0m \u001b[39mif\u001b[39;00m to_excel:\n\u001b[1;32m--> 615\u001b[0m     \u001b[39mself\u001b[39;49m\u001b[39m.\u001b[39;49mchecks_to_excel(open_file\u001b[39m=\u001b[39;49mopen_file)\n",
      "File \u001b[1;32mc:\\Users\\iesmcs1\\Desktop\\Repository\\InwardsRe\\InwardsRe\\inwards_tasks\\pre_run_checks.py:639\u001b[0m, in \u001b[0;36mDataChecks.checks_to_excel\u001b[1;34m(self, open_file)\u001b[0m\n\u001b[0;32m    633\u001b[0m writer \u001b[39m=\u001b[39m pd\u001b[39m.\u001b[39mExcelWriter(file_name,\n\u001b[0;32m    634\u001b[0m                         engine\u001b[39m=\u001b[39m\u001b[39m'\u001b[39m\u001b[39mxlsxwriter\u001b[39m\u001b[39m'\u001b[39m,\n\u001b[0;32m    635\u001b[0m                         date_format\u001b[39m=\u001b[39m\u001b[39m'\u001b[39m\u001b[39mdd/mm/yyyy\u001b[39m\u001b[39m'\u001b[39m,\n\u001b[0;32m    636\u001b[0m                         datetime_format\u001b[39m=\u001b[39m\u001b[39m'\u001b[39m\u001b[39mdd/mm/yyyy\u001b[39m\u001b[39m'\u001b[39m)\n\u001b[0;32m    637\u001b[0m wb \u001b[39m=\u001b[39m writer\u001b[39m.\u001b[39mbook\n\u001b[1;32m--> 639\u001b[0m \u001b[39mself\u001b[39;49m\u001b[39m.\u001b[39;49m_add_notes_sheet(excel_writer\u001b[39m=\u001b[39;49mwriter)\n\u001b[0;32m    641\u001b[0m \u001b[39mfor\u001b[39;00m sheetname, dataframe \u001b[39min\u001b[39;00m \u001b[39mself\u001b[39m\u001b[39m.\u001b[39mdata_checks_dfs\u001b[39m.\u001b[39mitems():\n\u001b[0;32m    642\u001b[0m     dataframe\u001b[39m.\u001b[39mto_excel(writer, index\u001b[39m=\u001b[39m\u001b[39mFalse\u001b[39;00m, sheet_name\u001b[39m=\u001b[39msheetname)\n",
      "File \u001b[1;32mc:\\Users\\iesmcs1\\Desktop\\Repository\\InwardsRe\\InwardsRe\\inwards_tasks\\pre_run_checks.py:767\u001b[0m, in \u001b[0;36mDataChecks._add_notes_sheet\u001b[1;34m(self, excel_writer)\u001b[0m\n\u001b[0;32m    736\u001b[0m title_format \u001b[39m=\u001b[39m wb\u001b[39m.\u001b[39madd_format({\u001b[39m'\u001b[39m\u001b[39mbold\u001b[39m\u001b[39m'\u001b[39m: \u001b[39mTrue\u001b[39;00m,\n\u001b[0;32m    737\u001b[0m                               \u001b[39m'\u001b[39m\u001b[39mfont_color\u001b[39m\u001b[39m'\u001b[39m: \u001b[39m'\u001b[39m\u001b[39m#1f497d\u001b[39m\u001b[39m'\u001b[39m,\n\u001b[0;32m    738\u001b[0m                               \u001b[39m'\u001b[39m\u001b[39mfont_size\u001b[39m\u001b[39m'\u001b[39m: \u001b[39m16\u001b[39m})\n\u001b[0;32m    740\u001b[0m \u001b[39m# (Text , Format) if Title, or just Text\u001b[39;00m\n\u001b[0;32m    741\u001b[0m info \u001b[39m=\u001b[39m [\n\u001b[0;32m    742\u001b[0m     (\u001b[39m'\u001b[39m\u001b[39mSharePoint Checks\u001b[39m\u001b[39m'\u001b[39m, title_format),\n\u001b[0;32m    743\u001b[0m     \u001b[39m'\u001b[39m\u001b[39mcheck_1: Amount decided is 0 or NaN.\u001b[39m\u001b[39m'\u001b[39m,\n\u001b[0;32m    744\u001b[0m     \u001b[39m'\u001b[39m\u001b[39mcheck_2: Empty BUS ID in SharePoint data.\u001b[39m\u001b[39m'\u001b[39m,\n\u001b[0;32m    745\u001b[0m     \u001b[39m'\u001b[39m\u001b[39mcheck_3: Duplicated entries. It also tags the latest entry.\u001b[39m\u001b[39m'\u001b[39m,\n\u001b[0;32m    746\u001b[0m     \u001b[39m'\u001b[39m\u001b[39mcheck_4a: Empty spaces in beginning or end of Balloon ID.\u001b[39m\u001b[39m'\u001b[39m,\n\u001b[0;32m    747\u001b[0m     \u001b[39m'\u001b[39m\u001b[39mcheck_4b: Empty spaces in beginning or end of BUS ID.\u001b[39m\u001b[39m'\u001b[39m,\n\u001b[0;32m    748\u001b[0m     \u001b[39m'\u001b[39m\u001b[39mcheck_5: Checks for Balloon ID pattern - 5 digits, BC, 1 digit, 1 blank space, 2 digits\u001b[39m\u001b[39m'\u001b[39m,\n\u001b[0;32m    749\u001b[0m     \u001b[39m'\u001b[39m\u001b[39mcheck_6: Balloon ID exists in Register.\u001b[39m\u001b[39m'\u001b[39m,\n\u001b[0;32m    750\u001b[0m     \n\u001b[0;32m    751\u001b[0m     (\u001b[39m'\u001b[39m\u001b[39mSYMY Checks\u001b[39m\u001b[39m'\u001b[39m, title_format),\n\u001b[0;32m    752\u001b[0m     \u001b[39m'\u001b[39m\u001b[39mcheck_1: Checks if the first 5 numbers of Customer name match LEGACY_POLICY.\u001b[39m\u001b[39m'\u001b[39m,\n\u001b[0;32m    753\u001b[0m     \u001b[39m'\u001b[39m\u001b[39mcheck_2: Checks if CLD_TOTAL_AMOUNT is zero or empty.\u001b[39m\u001b[39m'\u001b[39m,\n\u001b[0;32m    754\u001b[0m     \u001b[39m'\u001b[39m\u001b[39mcheck_3:\u001b[39m\u001b[39m'\u001b[39m,\n\u001b[0;32m    755\u001b[0m     \u001b[39m'\u001b[39m\u001b[39m    Checks if COMMITMENT_TYPE = \u001b[39m\u001b[39m\"\u001b[39m\u001b[39mS\u001b[39m\u001b[39m\"\u001b[39m\u001b[39m belongs to LEGACY_POLICY ending with \u001b[39m\u001b[39m\"\u001b[39m\u001b[39mSA\u001b[39m\u001b[39m\"\u001b[39m\u001b[39m.\u001b[39m\u001b[39m'\u001b[39m,\n\u001b[0;32m    756\u001b[0m     \u001b[39m'\u001b[39m\u001b[39m    Checks if COMMITMENT_TYPE = \u001b[39m\u001b[39m\"\u001b[39m\u001b[39mF\u001b[39m\u001b[39m\"\u001b[39m\u001b[39m belongs to LEGACY_POLICY SEQ(2nd char) = \u001b[39m\u001b[39m\"\u001b[39m\u001b[39m3\u001b[39m\u001b[39m\"\u001b[39m\u001b[39m.\u001b[39m\u001b[39m'\u001b[39m,\n\u001b[0;32m    757\u001b[0m     \u001b[39m'\u001b[39m\u001b[39mcheck_4: Checks if Balloon ID in SYMY exists in Register.\u001b[39m\u001b[39m'\u001b[39m,\n\u001b[0;32m    758\u001b[0m     \u001b[39m'\u001b[39m\u001b[39mcheck_5: Checks if COMMITMENT_TYPE in SYMY matches UPR Code in Register.\u001b[39m\u001b[39m'\u001b[39m,\n\u001b[0;32m    759\u001b[0m     \u001b[39m'\u001b[39m\u001b[39mcheck_6: Checks if SYMY Currency the same as Register.\u001b[39m\u001b[39m'\u001b[39m,\n\u001b[0;32m    760\u001b[0m     \u001b[39m'\u001b[39m\u001b[39mcheck_7: Check if SYMY entry has a match in SharePoint.\u001b[39m\u001b[39m'\u001b[39m,\n\u001b[0;32m    761\u001b[0m     \n\u001b[0;32m    762\u001b[0m     (\u001b[39m'\u001b[39m\u001b[39mSYMY DUPLICATED\u001b[39m\u001b[39m'\u001b[39m, title_format),\n\u001b[0;32m    763\u001b[0m     \u001b[39m'\u001b[39m\u001b[39mList of all duplicated exposures using BUYER_NUMBER and Balloon ID.\u001b[39m\u001b[39m'\u001b[39m,\n\u001b[0;32m    764\u001b[0m \n\u001b[0;32m    765\u001b[0m     (\u001b[39m'\u001b[39m\u001b[39mSYMY Expiry Dates\u001b[39m\u001b[39m'\u001b[39m, title_format),\n\u001b[0;32m    766\u001b[0m     \u001b[39m'\u001b[39m\u001b[39mcheck_1: Checks if Expiry date in SYMY and Register are matching.\u001b[39m\u001b[39m'\u001b[39m,\n\u001b[1;32m--> 767\u001b[0m     \u001b[39mf\u001b[39;49m\u001b[39m'\u001b[39;49m\u001b[39mcheck_2: Checks if Pd Beg is before reporting date (\u001b[39;49m\u001b[39m{\u001b[39;49;00m\u001b[39mself\u001b[39;49m\u001b[39m.\u001b[39;49mreport_date\u001b[39m}\u001b[39;49;00m\u001b[39m).\u001b[39;49m\u001b[39m'\u001b[39;49m\n\u001b[0;32m    768\u001b[0m     \n\u001b[0;32m    769\u001b[0m     (\u001b[39m'\u001b[39;49m\u001b[39mREGISTER Checks\u001b[39;49m\u001b[39m'\u001b[39;49m, title_format),\n\u001b[0;32m    770\u001b[0m     \u001b[39m'\u001b[39m\u001b[39mcheck_1: Checks if Type/Form = \u001b[39m\u001b[39m\"\u001b[39m\u001b[39mFAC\u001b[39m\u001b[39m\"\u001b[39m\u001b[39m has BUS ID.\u001b[39m\u001b[39m'\u001b[39m\n\u001b[0;32m    771\u001b[0m ]\n\u001b[0;32m    773\u001b[0m section \u001b[39m=\u001b[39m \u001b[39m'\u001b[39m\u001b[39m'\u001b[39m\n\u001b[0;32m    774\u001b[0m row_range \u001b[39m=\u001b[39m \u001b[39m1\u001b[39m\n",
      "\u001b[1;31mTypeError\u001b[0m: 'str' object is not callable"
     ]
    }
   ],
   "source": [
    "dc.run_checks(keep_only_error=False, to_excel=True, open_file=True) "
   ]
  },
  {
   "attachments": {},
   "cell_type": "markdown",
   "metadata": {},
   "source": [
    "07359B1 04\tBUS ID N/A  \n",
    "36105C1 01\tBUS ID N/A  \n",
    "These 2 were deleted from the run because they don't have an entry on SYMNY\n"
   ]
  }
 ],
 "metadata": {
  "interpreter": {
   "hash": "1baa965d5efe3ac65b79dfc60c0d706280b1da80fedb7760faf2759126c4f253"
  },
  "kernelspec": {
   "display_name": "Python 3.8.5 64-bit",
   "name": "python3"
  },
  "language_info": {
   "codemirror_mode": {
    "name": "ipython",
    "version": 3
   },
   "file_extension": ".py",
   "mimetype": "text/x-python",
   "name": "python",
   "nbconvert_exporter": "python",
   "pygments_lexer": "ipython3",
   "version": "3.10.5"
  },
  "orig_nbformat": 2
 },
 "nbformat": 4,
 "nbformat_minor": 2
}
