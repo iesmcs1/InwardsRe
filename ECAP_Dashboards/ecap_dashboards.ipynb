{
 "cells": [
  {
   "cell_type": "code",
   "execution_count": null,
   "metadata": {},
   "outputs": [],
   "source": [
    "import sys\n",
    "import os\n",
    "# Need to add parent folder to SYS PATH in order to import packages.\n",
    "# This is meant to be used only 1 folder inside parent. It won't work if it's inside another folder.\n",
    "sys.path.insert(0, os.path.abspath('..'))\n",
    "\n",
    "import pandas as pd\n",
    "import numpy as np"
   ]
  },
  {
   "cell_type": "code",
   "execution_count": null,
   "metadata": {},
   "outputs": [],
   "source": [
    "from inwards_tasks.ecap_dashboard import ECapDashboard\n",
    "from inwards_tasks.ecap_dashboard import ReportedRun\n",
    "\n",
    "ed = ECapDashboard()"
   ]
  },
  {
   "cell_type": "code",
   "execution_count": null,
   "metadata": {},
   "outputs": [],
   "source": [
    "ed.import_cedant_info(filepath='CEDANT_INFO.txt')\n",
    "\n",
    "ed.import_run_data(so_report_filepath='SO_REPORTING_6821.txt',\n",
    "                   epi_filepath='EPI_6821.txt')\n",
    "\n",
    "ed.import_run_data(so_report_filepath='SO_REPORTING_6788.txt',\n",
    "                   epi_filepath='EPI_6788.txt')\n",
    "\n",
    "ed.import_run_data(so_report_filepath='SO_REPORTING_6754.txt',\n",
    "                   epi_filepath='EPI_6754.txt')\n",
    "\n",
    "ed.import_run_data(so_report_filepath='SO_REPORTING_6724.txt',\n",
    "                   epi_filepath='EPI_6724.txt')"
   ]
  },
  {
   "cell_type": "code",
   "execution_count": null,
   "metadata": {},
   "outputs": [],
   "source": [
    "rr = ReportedRun('SO_REPORTING_6854.txt')"
   ]
  },
  {
   "cell_type": "code",
   "execution_count": null,
   "metadata": {},
   "outputs": [],
   "source": [
    "df = rr.get_data(column_filter={'ULTIMATE_ISO_COUNTRY': 'RUS'})\n",
    "df = df.loc[~df['MODEL_SUB_TYPE'].isin(['CI_POL_UNK', 'CI_POL_KN'])].copy()"
   ]
  },
  {
   "cell_type": "code",
   "execution_count": null,
   "metadata": {},
   "outputs": [],
   "source": [
    "px.scatter(\n",
    "    df,\n",
    "    x='ULTIMATE_POD',\n",
    "    y='EXP_GROSS_OF_RETRO',\n",
    "    color='MODEL_SUB_TYPE',\n",
    ")"
   ]
  },
  {
   "cell_type": "code",
   "execution_count": null,
   "metadata": {},
   "outputs": [],
   "source": [
    "from plotly.subplots import make_subplots\n",
    "import plotly.graph_objects as go\n",
    "\n",
    "fig = make_subplots(rows=2, cols=1)\n",
    "\n",
    "for i in df.MODEL_SUB_TYPE.unique():\n",
    "    if 'POL' not in i:\n",
    "        df_sub = df.loc[df['MODEL_SUB_TYPE'] == i]\n",
    "        fig.add_trace(\n",
    "            go.Histogram(\n",
    "                x=df_sub['ULTIMATE_POD'],\n",
    "                y=df_sub['EXP_GROSS_OF_RETRO'],\n",
    "                histfunc=\"sum\",\n",
    "                name=f'Sum of TPE-{i}',\n",
    "            ),\n",
    "            row=1, col=1\n",
    "        )\n",
    "\n",
    "fig.add_trace(\n",
    "    go.Histogram(\n",
    "        x=df['ULTIMATE_POD'],\n",
    "        y=df['EXP_GROSS_OF_RETRO'],\n",
    "        histfunc=\"count\",\n",
    "        name='Count of Buyers'\n",
    "    ),\n",
    "    row=2, col=1\n",
    ")\n",
    "\n",
    "# fig.add_trace(\n",
    "#     go.Scatter(x=[20, 30, 40], y=[50, 60, 70]),\n",
    "#     row=2, col=1\n",
    "# )\n",
    "fig.update_xaxes(tickformat='.2%', row=1, col=1)\n",
    "fig.update_xaxes(tickformat='.2%', row=2, col=1)\n",
    "#fig.update_layout(height=600, width=800, title_text=\"Side By Side Subplots\")\n",
    "fig.write_html('test.html', include_plotlyjs ='cdn')"
   ]
  },
  {
   "cell_type": "code",
   "execution_count": null,
   "metadata": {},
   "outputs": [],
   "source": [
    "ed.datasets[-1].get_data().to_clipboard(index=False)"
   ]
  },
  {
   "cell_type": "code",
   "execution_count": null,
   "metadata": {},
   "outputs": [],
   "source": [
    "df_old = ed.datasets[-2].get_data().groupby('CUSTOMER_ID', as_index=False).sum()\n",
    "df_new = ed.datasets[-1].get_data().groupby('CUSTOMER_ID', as_index=False).sum()\n",
    "\n",
    "df_old['POD'] = df_old['POD_WA_HELPER'] / df_old['EXP_GROSS_OF_RETRO'].sum()\n",
    "df_new['POD'] = df_new['POD_WA_HELPER'] / df_old['EXP_GROSS_OF_RETRO'].sum()\n",
    "\n",
    "df_old.merge(df_new, on='CUSTOMER_ID', how='outer', suffixes=('-OLD', '-NEW'))"
   ]
  },
  {
   "cell_type": "code",
   "execution_count": null,
   "metadata": {},
   "outputs": [],
   "source": [
    "cust_id = '08296C1 01'\n",
    "\n",
    "ed.get_ecap(column_filter={'CUSTOMER_ID': cust_id})#.to_clipboard()\n",
    "df = pd.DataFrame()\n",
    "df['ECAP'] = ed.get_ecap(column_filter={'CUSTOMER_ID': cust_id})\n",
    "df['PD'] = ed.get_pod(column_filter={'CUSTOMER_ID': cust_id})\n",
    "df['TPE'] = ed.get_tpe(column_filter={'CUSTOMER_ID': cust_id})\n",
    "df['EPI'] = ed.get_epi(customer_id=cust_id)\n",
    "df['ECAP/TPE'] = df['ECAP'] / df['TPE']\n",
    "df['ECAP/EPI'] = df['ECAP'] / df['EPI']\n",
    "df#.to_clipboard(index=True)"
   ]
  },
  {
   "cell_type": "code",
   "execution_count": null,
   "metadata": {},
   "outputs": [],
   "source": [
    "ed.get_ecap_movement('bond')\n"
   ]
  },
  {
   "cell_type": "code",
   "execution_count": null,
   "metadata": {},
   "outputs": [],
   "source": [
    "df_old = ed.datasets[0].get_data(column_filter={'CUSTOMER_ID': '09270C1 07'})\n",
    "df_new = ed.datasets[1].get_data(column_filter={'CUSTOMER_ID': '09270C1 07'})"
   ]
  },
  {
   "cell_type": "code",
   "execution_count": null,
   "metadata": {},
   "outputs": [],
   "source": [
    "df_new.to_clipboard()"
   ]
  },
  {
   "cell_type": "code",
   "execution_count": null,
   "metadata": {},
   "outputs": [],
   "source": [
    "df_new.columns"
   ]
  },
  {
   "cell_type": "code",
   "execution_count": null,
   "metadata": {},
   "outputs": [],
   "source": [
    "cols_to_use = [\n",
    "    'ALIAS_ID',\n",
    "    'ULTIMATE_ID',\n",
    "    'ULTIMATE_NAME',\n",
    "    'ULTIMATE_POD',\n",
    "    'EXP_GROSS_OF_RETRO',\n",
    "    'EC_CONSUMPTION_ND',\n",
    "    'ULTIMATE_RATING_TYPE',\n",
    "    'ULTIMATE_RATING'\n",
    "]\n"
   ]
  },
  {
   "cell_type": "code",
   "execution_count": null,
   "metadata": {},
   "outputs": [],
   "source": [
    "df_old[cols_to_use].merge(df_new[cols_to_use], on=['ALIAS_ID', 'ULTIMATE_NAME'])"
   ]
  },
  {
   "cell_type": "code",
   "execution_count": null,
   "metadata": {},
   "outputs": [],
   "source": [
    "ed.datasets[-1].get_data(column_filter={'CUSTOMER_ID': '02718B1 01'})"
   ]
  },
  {
   "cell_type": "code",
   "execution_count": null,
   "metadata": {},
   "outputs": [],
   "source": [
    "df = ed.datasets[-4].get_data(column_filter={'CUSTOMER_ID': '02718B1 01'})\n",
    "df.groupby('MODEL_SUB_TYPE').sum()['EXP_GROSS_OF_RETRO'].to_clipboard()"
   ]
  },
  {
   "cell_type": "code",
   "execution_count": null,
   "metadata": {},
   "outputs": [],
   "source": [
    "import plotly.express as px\n",
    "df = ed.datasets[-1].get_data(column_filter={'CUSTOMER_ID': '02718B1 01'})\n",
    "df = df.loc[df['ALIAS_ID'] != '02718B1 01']\n",
    "\n",
    "fig = px.scatter(df,\n",
    "                   x=\"ULTIMATE_POD\",\n",
    "                   y=\"EXP_GROSS_OF_RETRO\",\n",
    "                   hover_data={'EXP_GROSS_OF_RETRO': ':.4s',\n",
    "                                'ULTIMATE_ID': True})\n",
    "\n",
    "fig.update_xaxes(tickformat='.2%')\n",
    "fig.show()\n"
   ]
  },
  {
   "cell_type": "code",
   "execution_count": null,
   "metadata": {},
   "outputs": [],
   "source": []
  },
  {
   "cell_type": "code",
   "execution_count": null,
   "metadata": {},
   "outputs": [],
   "source": [
    "ed.cedant_info[ed.cedant_info['Cedant'].str.contains('UNIPOL')]"
   ]
  },
  {
   "cell_type": "code",
   "execution_count": null,
   "metadata": {},
   "outputs": [],
   "source": [
    "ed.get_ecap(column_filter={'CUSTOMER_ID': '09270C1 07'})"
   ]
  },
  {
   "cell_type": "code",
   "execution_count": null,
   "metadata": {},
   "outputs": [],
   "source": [
    "df_model_type = ed.datasets[-1].data[['CONTRACT_ID', 'MODEL_TYPE']].drop_duplicates()\n",
    "\n",
    "df_model_type.merge(ed.datasets[-1].epi_by_contract, on='CONTRACT_ID', how='left')"
   ]
  },
  {
   "cell_type": "code",
   "execution_count": null,
   "metadata": {},
   "outputs": [],
   "source": [
    "ed.datasets[-1].get_data(column_filter={'CUSTOMER_ID': '09270C1 07'})['EC_CONSUMPTION_ND'].sum()"
   ]
  },
  {
   "cell_type": "code",
   "execution_count": null,
   "metadata": {},
   "outputs": [],
   "source": [
    "ed.get_pod(column_filter={'CUSTOMER_ID': '09270C1 07'})"
   ]
  },
  {
   "cell_type": "code",
   "execution_count": null,
   "metadata": {},
   "outputs": [],
   "source": [
    "ed.get_ecap_movement(model_type='bond')"
   ]
  },
  {
   "cell_type": "code",
   "execution_count": null,
   "metadata": {},
   "outputs": [],
   "source": [
    "df_old = ed.datasets[-2].data\n",
    "df_old = df_old.loc[df_old['CUSTOMER_ID'] == '09976C1 03']\n",
    "df_old.groupby(['ULTIMATE_ID', 'ULTIMATE_NAME'], as_index=False).sum()"
   ]
  },
  {
   "cell_type": "markdown",
   "metadata": {},
   "source": [
    "# Testing out plot ideas"
   ]
  },
  {
   "cell_type": "code",
   "execution_count": null,
   "metadata": {},
   "outputs": [],
   "source": [
    "import pandas as pd\n",
    "import numpy as np\n",
    "import plotly.express as px\n",
    "import plotly.graph_objects as go\n",
    "from plotly.subplots import make_subplots\n",
    "from typing import List, Union\n",
    "\n",
    "pd.set_option('display.max_columns', None)\n",
    "pd.options.display.float_format = '{:,.3f}'.format"
   ]
  },
  {
   "cell_type": "code",
   "execution_count": null,
   "metadata": {},
   "outputs": [],
   "source": [
    "df_cred = pd.read_csv('credit_by_cedant_6854.txt', sep='\\t')\n",
    "df_bond = pd.read_csv('bond_by_cedant_6854.txt', sep='\\t')\n",
    "\n",
    "df_bond_top = df_bond.nlargest(n=26, columns='ECAP (€m)')\n",
    "# Removed Cauciones because it was distorting the Y axis\n",
    "df_bond_top = df_bond_top[df_bond_top['Cedant'] != 'ASEG DE CAUCIONES (R. RE)'].copy()\n",
    "\n",
    "df_cred_top = df_cred.nlargest(n=25, columns='ECAP (€m)')"
   ]
  },
  {
   "cell_type": "markdown",
   "metadata": {},
   "source": [
    "## Bond"
   ]
  },
  {
   "cell_type": "code",
   "execution_count": null,
   "metadata": {},
   "outputs": [],
   "source": [
    "fig_bond_ecap = make_subplots(specs=[[{\"secondary_y\": True}]])\n",
    "\n",
    "fig_bond_ecap.add_trace(\n",
    "    go.Bar(x=df_bond_top['Cedant'],\n",
    "           y=df_bond_top['ECAP (€m)'],\n",
    "           name='ECap',\n",
    "           hovertemplate='<br>'.join([\n",
    "               \"ECAP: %{y:.4s}<br>\",\n",
    "               \"<extra></extra>\"\n",
    "           ])),\n",
    ")\n",
    "\n",
    "fig_bond_ecap.add_trace(\n",
    "    go.Bar(x=df_bond_top['Cedant'],\n",
    "           y=df_bond_top['EPI (€m)'],\n",
    "           name='EPI',\n",
    "           hovertemplate='<br>'.join([\n",
    "               \"EPI: %{y:.4s}<br>\",\n",
    "               \"<extra></extra>\"\n",
    "           ]),\n",
    "           visible='legendonly'),\n",
    ")\n",
    "\n",
    "fig_bond_ecap.add_trace(\n",
    "    go.Scatter(x=df_bond_top['Cedant'],\n",
    "               y=df_bond_top['ECAP / EPI'],\n",
    "               name='ECap / EPI ratio',\n",
    "               mode='lines+markers',\n",
    "               hovertemplate='<br>'.join([\n",
    "                   \"<b>ECap/EPI ratio:</b> %{y}\",\n",
    "                   \"<extra></extra>\"\n",
    "               ])),\n",
    "    secondary_y=True,\n",
    ")\n",
    "\n",
    "fig_bond_ecap.update_layout(\n",
    "    yaxis2_tickformat='.0%',\n",
    "    template='plotly_white',\n",
    "    title=\"Top 30 Cedants by ECap (bond only)\",\n",
    "    hovermode='x'\n",
    ")\n",
    "\n",
    "fig_bond_ecap.update_yaxes(secondary_y=True, showgrid=False, zeroline=False)\n",
    "\n",
    "fig_bond_ecap.write_html(file='bond_by_ecap.html', include_plotlyjs='cdn')\n"
   ]
  },
  {
   "cell_type": "code",
   "execution_count": null,
   "metadata": {},
   "outputs": [],
   "source": [
    "fig_bond_tpe = make_subplots(specs=[[{\"secondary_y\": True}]])\n",
    "\n",
    "fig_bond_tpe.add_trace(\n",
    "    go.Bar(x=df_bond_top['Cedant'],\n",
    "           y=df_bond_top['TPE (€m)'],\n",
    "           name='TPE',\n",
    "           hovertemplate='<br>'.join([\n",
    "               \"TPE: %{y:.4s}<br>\",\n",
    "               \"<extra></extra>\"\n",
    "           ]),\n",
    "           text=df_bond_top['TPE (€m)'],\n",
    "           textposition='outside'),\n",
    ")\n",
    "\n",
    "fig_bond_tpe.add_trace(\n",
    "    go.Scatter(x=df_bond_top['Cedant'],\n",
    "               y=df_bond_top['ECAP / TPE'],\n",
    "               name='ECap/TPE ratio',\n",
    "               mode='lines+markers',\n",
    "               hovertemplate='<br>'.join([\n",
    "                   \"<b>ECap/TPE ratio:</b> %{y:.2%}\",\n",
    "                   \"<extra></extra>\"\n",
    "               ])),\n",
    "    secondary_y=True,\n",
    ")\n",
    "\n",
    "fig_bond_tpe.update_layout(\n",
    "    yaxis2_tickformat='.1%',\n",
    "    template='plotly_white',\n",
    "    hovermode='x'\n",
    ")\n",
    "\n",
    "fig_bond_tpe.update_yaxes(\n",
    "    secondary_y=True,\n",
    "    showgrid=False,\n",
    "    zeroline=False\n",
    ")\n",
    "\n",
    "fig_bond_tpe.update_traces(\n",
    "    texttemplate='%{text:.3s}'\n",
    ")\n",
    "\n",
    "fig_bond_tpe.update_yaxes(\n",
    "    range=[0, 11e8],\n",
    "    secondary_y=False\n",
    ")\n",
    "\n",
    "fig_bond_tpe.write_html(file='bond_by_tpe.html', include_plotlyjs='cdn')\n"
   ]
  },
  {
   "cell_type": "markdown",
   "metadata": {},
   "source": [
    "## Credit Section"
   ]
  },
  {
   "cell_type": "code",
   "execution_count": null,
   "metadata": {},
   "outputs": [],
   "source": [
    "fig_cred_ecap = make_subplots(specs=[[{\"secondary_y\": True}]])\n",
    "\n",
    "fig_cred_ecap.add_trace(\n",
    "    go.Bar(x=df_cred_top['Cedant'],\n",
    "           y=df_cred_top['ECAP (€m)'],\n",
    "           name='ECap',\n",
    "           hovertemplate='<br>'.join([\n",
    "               \"ECAP: %{y:.4s}<br>\",\n",
    "               \"<extra></extra>\"\n",
    "           ])),\n",
    ")\n",
    "\n",
    "fig_cred_ecap.add_trace(\n",
    "    go.Bar(x=df_cred_top['Cedant'],\n",
    "           y=df_cred_top['EPI (€m)'],\n",
    "           name='EPI',\n",
    "           hovertemplate='<br>'.join([\n",
    "               \"EPI: %{y:.4s}<br>\",\n",
    "               \"<extra></extra>\"\n",
    "           ]),\n",
    "           visible='legendonly'),\n",
    ")\n",
    "\n",
    "fig_cred_ecap.add_trace(\n",
    "    go.Scatter(x=df_cred_top['Cedant'],\n",
    "               y=df_cred_top['ECAP / EPI'],\n",
    "               name='ECap / EPI ratio',\n",
    "               mode='lines+markers',\n",
    "               hovertemplate='<br>'.join([\n",
    "                   \"<b>ECap/EPI ratio:</b> %{y}\",\n",
    "                   \"<extra></extra>\"\n",
    "               ])),\n",
    "    secondary_y=True,\n",
    ")\n",
    "\n",
    "fig_cred_ecap.update_layout(\n",
    "    yaxis2_tickformat='.0%',\n",
    "    template='plotly_white',\n",
    "    title=\"Top 30 Cedants by ECap (bond only)\",\n",
    "    hovermode='x'\n",
    ")\n",
    "\n",
    "fig_cred_ecap.update_yaxes(secondary_y=True, showgrid=False, zeroline=False)\n",
    "\n",
    "fig_cred_ecap.write_html(file='cred_by_ecap.html', include_plotlyjs='cdn')\n"
   ]
  },
  {
   "cell_type": "code",
   "execution_count": null,
   "metadata": {},
   "outputs": [],
   "source": [
    "fig_cred_tpe = make_subplots(specs=[[{\"secondary_y\": True}]])\n",
    "\n",
    "fig_cred_tpe.add_trace(\n",
    "    go.Bar(x=df_cred_top['Cedant'],\n",
    "           y=df_cred_top['TPE (€m)'] / 1e6,\n",
    "           name='TPE',\n",
    "           hovertemplate='<br>'.join([\n",
    "               \"TPE: %{y:.4s}<br>\",\n",
    "               \"<extra></extra>\"\n",
    "           ]),\n",
    "           text=df_cred_top['TPE (€m)'] / 1e6,\n",
    "           textposition='outside'),\n",
    ")\n",
    "\n",
    "fig_cred_tpe.add_trace(\n",
    "    go.Scatter(x=df_cred_top['Cedant'],\n",
    "               y=df_cred_top['ECAP / TPE'],\n",
    "               name='ECap/TPE ratio',\n",
    "               mode='lines+markers',\n",
    "               hovertemplate='<br>'.join([\n",
    "                   \"<b>ECap/TPE ratio:</b> %{y:.2%}\",\n",
    "                   \"<extra></extra>\"\n",
    "               ])),\n",
    "    secondary_y=True,\n",
    ")\n",
    "\n",
    "fig_cred_tpe.update_layout(\n",
    "    yaxis2_tickformat='.1%',\n",
    "    yaxis_tickformat=',.0f',\n",
    "    template='plotly_white',\n",
    "    hovermode='x'\n",
    ")\n",
    "\n",
    "fig_cred_tpe.update_yaxes(\n",
    "    secondary_y=True,\n",
    "    showgrid=False,\n",
    "    zeroline=False\n",
    ")\n",
    "\n",
    "fig_cred_tpe.update_traces(\n",
    "    texttemplate='%{text:,.0f}M'\n",
    ")\n",
    "\n",
    "fig_cred_tpe.update_yaxes(\n",
    "    range=[0, 4e3],\n",
    "    ticksuffix='M',\n",
    "    secondary_y=False\n",
    ")\n",
    "\n",
    "fig_cred_tpe.write_html(file='cred_by_tpe.html', include_plotlyjs='cdn')\n"
   ]
  }
 ],
 "metadata": {
  "interpreter": {
   "hash": "1baa965d5efe3ac65b79dfc60c0d706280b1da80fedb7760faf2759126c4f253"
  },
  "kernelspec": {
   "display_name": "Python 3.8.5 64-bit",
   "name": "python3"
  },
  "language_info": {
   "codemirror_mode": {
    "name": "ipython",
    "version": 3
   },
   "file_extension": ".py",
   "mimetype": "text/x-python",
   "name": "python",
   "nbconvert_exporter": "python",
   "pygments_lexer": "ipython3",
   "version": "3.8.5"
  },
  "orig_nbformat": 2
 },
 "nbformat": 4,
 "nbformat_minor": 2
}
