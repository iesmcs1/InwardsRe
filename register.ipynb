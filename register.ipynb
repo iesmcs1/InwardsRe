{
 "cells": [
  {
   "cell_type": "markdown",
   "metadata": {},
   "source": [
    "# 1. Import Register\n",
    "- Update `reg_path` to reference the correct treaty register\n",
    "- Update `rep_date` to the corresponding reporting date\n",
    "- Run cell below to load the Register\n",
    "- Run `.export_solvency_register_to_txt()` to generate the Register text file for Solvency II"
   ]
  },
  {
   "cell_type": "code",
   "execution_count": 1,
   "metadata": {},
   "outputs": [],
   "source": [
    "import pandas as pd\n",
    "from inwards_tasks.treaty_register import Register\n",
    "\n",
    "reg_path = 'Assumed Non Group Treaty Register Report UWY 2007 - 2022 March 31st as at 01.04.2022.xlsx'\n",
    "rep_date = '31/03/2022'\n",
    "\n",
    "# Creates Register Class with Register file pre-processed for Pandas usage\n",
    "reg = Register(\n",
    "    filepath=reg_path,\n",
    "    oldest_uwy=10,\n",
    "    adjust_register=False,\n",
    "    timestamp=True,\n",
    "    report_date=rep_date\n",
    ")\n",
    "\n",
    "# Register DataFrame\n",
    "#df = reg.register"
   ]
  },
  {
   "cell_type": "code",
   "execution_count": null,
   "metadata": {},
   "outputs": [],
   "source": [
    "reg.export_solvency_register_to_txt()"
   ]
  },
  {
   "cell_type": "code",
   "execution_count": null,
   "metadata": {},
   "outputs": [],
   "source": [
    "#reg.export_solvency_register_to_txt()\n",
    "reg.export_to_excel(solvency_reg=True, adjusted_reg_with_helper_cols=True)"
   ]
  },
  {
   "cell_type": "markdown",
   "metadata": {},
   "source": [
    "# For ECap Dashboards\n",
    "- Normal Treaty Register can be used\n",
    "- You need to run the code in the first cell, then run the code below\n",
    "- The code below will add the DataFrame directly to the clipboard (as if you `Ctrl+C` something)\n",
    "- You just need to paste it at the bottom of the *EPIs* tab, in the `Movements to` Excel file\n",
    "- Don't forget to delete the column headers of the pasted data, in the Excel file."
   ]
  },
  {
   "cell_type": "code",
   "execution_count": 2,
   "metadata": {},
   "outputs": [],
   "source": [
    "reg.register[['REPORT_DATE', 'CONTRACT_ID', 'Run-off', 'EPI is Rev EPI or EPI', 'YearFrac']].to_clipboard(index=False)"
   ]
  }
 ],
 "metadata": {
  "interpreter": {
   "hash": "570feb405e2e27c949193ac68f46852414290d515b0ba6e5d90d076ed2284471"
  },
  "kernelspec": {
   "display_name": "Python 3.8.5 64-bit",
   "language": "python",
   "name": "python3"
  },
  "language_info": {
   "codemirror_mode": {
    "name": "ipython",
    "version": 3
   },
   "file_extension": ".py",
   "mimetype": "text/x-python",
   "name": "python",
   "nbconvert_exporter": "python",
   "pygments_lexer": "ipython3",
   "version": "3.8.5"
  },
  "orig_nbformat": 2
 },
 "nbformat": 4,
 "nbformat_minor": 2
}
