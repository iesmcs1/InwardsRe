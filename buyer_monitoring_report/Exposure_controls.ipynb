{
 "metadata": {
  "language_info": {
   "codemirror_mode": {
    "name": "ipython",
    "version": 3
   },
   "file_extension": ".py",
   "mimetype": "text/x-python",
   "name": "python",
   "nbconvert_exporter": "python",
   "pygments_lexer": "ipython3",
   "version": "3.8.5"
  },
  "orig_nbformat": 2,
  "kernelspec": {
   "name": "python3",
   "display_name": "Python 3.8.5 64-bit"
  },
  "interpreter": {
   "hash": "1baa965d5efe3ac65b79dfc60c0d706280b1da80fedb7760faf2759126c4f253"
  }
 },
 "nbformat": 4,
 "nbformat_minor": 2,
 "cells": [
  {
   "cell_type": "code",
   "execution_count": null,
   "source": [
    "import pandas as pd\r\n",
    "def import_named_data(filename):\r\n",
    "    return pd.read_excel(filename)\r\n",
    "    \r\n",
    "named_april_filename = \"INWARDS_RE_NAMED Exposure_20210430_BO_(testing 18_POT)_v2.xlsx\"\r\n",
    "named_april = import_named_data(named_december_filename)"
   ],
   "outputs": [],
   "metadata": {}
  },
  {
   "cell_type": "code",
   "execution_count": null,
   "source": [
    "# SA and TTY dupliacte check:\r\n",
    "# Slice the dataframe -  Key, Short name, Buyer ID, Buyer name, TPE, Policy Type\r\n",
    "# Find those combinations of Key and Buyer ID where TPE is >0 on both SA and TTY type of policy\r\n",
    "# Flag those combinations\r\n",
    "# Return the flaged combinations\r\n",
    "#\r\n",
    "# Potential duplicates:\r\n",
    "# Slice the dataframe\r\n",
    "# Primary key= Key+Customer(Cedant ID)+Parent ID\r\n",
    "# Remove zero CLD_amount=TPE values\r\n",
    "# Sumarize TPE values by primary key and buyer\r\n",
    "# Find those Primary keys for which both is true: at least one buyer is same as the parent and at least one buyer is different than the parent (for the same primary key)\r\n",
    "# Between those combinations, flag those combinations where the CLD date is different for buyers=parent and buyers<>parent"
   ],
   "outputs": [],
   "metadata": {}
  }
 ]
}